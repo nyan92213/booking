{
 "cells": [
  {
   "cell_type": "code",
   "execution_count": 1,
   "metadata": {
    "id": "pmytjssmd5f8"
   },
   "outputs": [],
   "source": [
    "import pandas as pd\n",
    "import seaborn as sns\n",
    "import matplotlib.pyplot as plt\n",
    "\n",
    "from sklearn.linear_model import LogisticRegression"
   ]
  },
  {
   "cell_type": "code",
   "execution_count": 2,
   "metadata": {
    "colab": {
     "base_uri": "https://localhost:8080/"
    },
    "id": "u2TUwF0Sd8ok",
    "outputId": "ba6963c4-576d-457b-df56-f97f638e3882"
   },
   "outputs": [
    {
     "name": "stdout",
     "output_type": "stream",
     "text": [
      "Test dataset shape: (23525, 28)\n"
     ]
    }
   ],
   "source": [
    "train = pd.read_csv(\"train_final.csv\")\n",
    "test = pd.read_csv(\"test_final.csv\")\n",
    "\n",
    "print(f\"Test dataset shape: {test.shape}\")"
   ]
  },
  {
   "cell_type": "code",
   "execution_count": 3,
   "metadata": {
    "colab": {
     "base_uri": "https://localhost:8080/"
    },
    "id": "_hfCvuKnd-Kt",
    "outputId": "2ae46b89-1e57-4298-bc78-4a256404c9e2"
   },
   "outputs": [
    {
     "data": {
      "text/plain": [
       "0    31354\n",
       "1    13284\n",
       "Name: is_canceled, dtype: int64"
      ]
     },
     "execution_count": 3,
     "metadata": {},
     "output_type": "execute_result"
    }
   ],
   "source": [
    "train['is_canceled'].value_counts()"
   ]
  },
  {
   "cell_type": "code",
   "execution_count": 4,
   "metadata": {
    "colab": {
     "base_uri": "https://localhost:8080/",
     "height": 285
    },
    "id": "mk4A2X3SeBBi",
    "outputId": "7e3f6995-f4dd-4acf-ebb2-af2690f08a61"
   },
   "outputs": [
    {
     "data": {
      "image/png": "[encoded data removed]",
      "text/plain": [
       "<Figure size 432x288 with 1 Axes>"
      ]
     },
     "metadata": {},
     "output_type": "display_data"
    }
   ],
   "source": [
    "sns.set(style=\"white\")\n",
    "sns.set(style=\"whitegrid\", color_codes=True)\n",
    "y_data = pd.DataFrame(train['is_canceled'])\n",
    "sns.countplot(x='is_canceled', data=y_data, palette='hls')\n",
    "plt.show()"
   ]
  },
  {
   "cell_type": "code",
   "execution_count": 5,
   "metadata": {
    "colab": {
     "base_uri": "https://localhost:8080/"
    },
    "id": "bnni2-DOZhik",
    "outputId": "23110ec2-8b31-454f-c541-c208a8c8cdda"
   },
   "outputs": [
    {
     "data": {
      "text/plain": [
       "array(['E', 'A', 'F', 'D', 'C', 'G', 'H', 'B', 'P'], dtype=object)"
      ]
     },
     "execution_count": 5,
     "metadata": {},
     "output_type": "execute_result"
    }
   ],
   "source": [
    "train['reserved_room_type'].unique()"
   ]
  },
  {
   "cell_type": "code",
   "execution_count": 6,
   "metadata": {
    "colab": {
     "base_uri": "https://localhost:8080/"
    },
    "id": "Kpv_bWc5Zut3",
    "outputId": "6d75be84-5327-413b-caf0-6f975b430fa7"
   },
   "outputs": [
    {
     "data": {
      "text/plain": [
       "array(['A', 'B', 'D', 'E', 'G', 'F', 'C', 'H', 'L'], dtype=object)"
      ]
     },
     "execution_count": 6,
     "metadata": {},
     "output_type": "execute_result"
    }
   ],
   "source": [
    "test['reserved_room_type'].unique()"
   ]
  },
  {
   "cell_type": "code",
   "execution_count": 7,
   "metadata": {
    "id": "1qWSbqoYeCPh"
   },
   "outputs": [],
   "source": [
    "train = train.drop(columns=['reservation_status_date'])\n",
    "test = test.drop(columns=['reservation_status_date'])"
   ]
  },
  {
   "cell_type": "code",
   "execution_count": 8,
   "metadata": {
    "colab": {
     "base_uri": "https://localhost:8080/"
    },
    "id": "9CANR6sLyxzy",
    "outputId": "ac502423-1cde-4055-d824-04b8217aa537"
   },
   "outputs": [
    {
     "name": "stdout",
     "output_type": "stream",
     "text": [
      "hotel\n",
      "set()\n",
      "---------------\n",
      "arrival_date_month\n",
      "set()\n",
      "---------------\n",
      "meal\n",
      "set()\n",
      "---------------\n",
      "country\n",
      "{'VGB', 'SYC', 'MYT', 'UMI', 'COM', 'BEN', 'GTM', 'GLP'}\n",
      "---------------\n",
      "market_segment\n",
      "set()\n",
      "---------------\n",
      "distribution_channel\n",
      "set()\n",
      "---------------\n",
      "reserved_room_type\n",
      "{'L'}\n",
      "---------------\n",
      "assigned_room_type\n",
      "{'L'}\n",
      "---------------\n",
      "deposit_type\n",
      "set()\n",
      "---------------\n",
      "customer_type\n",
      "set()\n",
      "---------------\n"
     ]
    }
   ],
   "source": [
    "categ = ['hotel', 'arrival_date_month', 'meal', 'country', 'market_segment',\n",
    "       'distribution_channel', 'reserved_room_type', 'assigned_room_type',\n",
    "       'deposit_type', 'customer_type']\n",
    "\n",
    "for i in categ:\n",
    "    print(i)\n",
    "    print(set(test[i].unique()).difference(set(train[i].unique())))\n",
    "    print('-'*15)"
   ]
  },
  {
   "cell_type": "code",
   "execution_count": 9,
   "metadata": {
    "colab": {
     "base_uri": "https://localhost:8080/",
     "height": 386
    },
    "id": "qhYHmFkC5clL",
    "outputId": "dc2b7c51-428f-4997-d2ff-a823cc519144"
   },
   "outputs": [
    {
     "data": {
      "text/html": [
       "<div>\n",
       "<style scoped>\n",
       "    .dataframe tbody tr th:only-of-type {\n",
       "        vertical-align: middle;\n",
       "    }\n",
       "\n",
       "    .dataframe tbody tr th {\n",
       "        vertical-align: top;\n",
       "    }\n",
       "\n",
       "    .dataframe thead th {\n",
       "        text-align: right;\n",
       "    }\n",
       "</style>\n",
       "<table border=\"1\" class=\"dataframe\">\n",
       "  <thead>\n",
       "    <tr style=\"text-align: right;\">\n",
       "      <th></th>\n",
       "      <th>hotel</th>\n",
       "      <th>is_canceled</th>\n",
       "      <th>lead_time</th>\n",
       "      <th>arrival_date_year</th>\n",
       "      <th>arrival_date_month</th>\n",
       "      <th>arrival_date_week_number</th>\n",
       "      <th>arrival_date_day_of_month</th>\n",
       "      <th>stays_in_weekend_nights</th>\n",
       "      <th>stays_in_week_nights</th>\n",
       "      <th>adults</th>\n",
       "      <th>...</th>\n",
       "      <th>previous_bookings_not_canceled</th>\n",
       "      <th>reserved_room_type</th>\n",
       "      <th>assigned_room_type</th>\n",
       "      <th>booking_changes</th>\n",
       "      <th>deposit_type</th>\n",
       "      <th>days_in_waiting_list</th>\n",
       "      <th>customer_type</th>\n",
       "      <th>adr</th>\n",
       "      <th>required_car_parking_spaces</th>\n",
       "      <th>total_of_special_requests</th>\n",
       "    </tr>\n",
       "  </thead>\n",
       "  <tbody>\n",
       "    <tr>\n",
       "      <th>0</th>\n",
       "      <td>Resort Hotel</td>\n",
       "      <td>0</td>\n",
       "      <td>3</td>\n",
       "      <td>2016</td>\n",
       "      <td>3</td>\n",
       "      <td>7</td>\n",
       "      <td>12</td>\n",
       "      <td>0</td>\n",
       "      <td>2</td>\n",
       "      <td>2</td>\n",
       "      <td>...</td>\n",
       "      <td>0</td>\n",
       "      <td>E</td>\n",
       "      <td>F</td>\n",
       "      <td>0</td>\n",
       "      <td>No Deposit</td>\n",
       "      <td>0</td>\n",
       "      <td>2</td>\n",
       "      <td>81.0</td>\n",
       "      <td>1</td>\n",
       "      <td>0</td>\n",
       "    </tr>\n",
       "    <tr>\n",
       "      <th>1</th>\n",
       "      <td>City Hotel</td>\n",
       "      <td>1</td>\n",
       "      <td>50</td>\n",
       "      <td>2016</td>\n",
       "      <td>9</td>\n",
       "      <td>47</td>\n",
       "      <td>18</td>\n",
       "      <td>1</td>\n",
       "      <td>2</td>\n",
       "      <td>2</td>\n",
       "      <td>...</td>\n",
       "      <td>0</td>\n",
       "      <td>A</td>\n",
       "      <td>A</td>\n",
       "      <td>0</td>\n",
       "      <td>No Deposit</td>\n",
       "      <td>0</td>\n",
       "      <td>2</td>\n",
       "      <td>93.6</td>\n",
       "      <td>0</td>\n",
       "      <td>2</td>\n",
       "    </tr>\n",
       "    <tr>\n",
       "      <th>2</th>\n",
       "      <td>City Hotel</td>\n",
       "      <td>0</td>\n",
       "      <td>14</td>\n",
       "      <td>2015</td>\n",
       "      <td>11</td>\n",
       "      <td>37</td>\n",
       "      <td>7</td>\n",
       "      <td>1</td>\n",
       "      <td>5</td>\n",
       "      <td>2</td>\n",
       "      <td>...</td>\n",
       "      <td>0</td>\n",
       "      <td>F</td>\n",
       "      <td>F</td>\n",
       "      <td>0</td>\n",
       "      <td>No Deposit</td>\n",
       "      <td>0</td>\n",
       "      <td>0</td>\n",
       "      <td>166.0</td>\n",
       "      <td>0</td>\n",
       "      <td>3</td>\n",
       "    </tr>\n",
       "    <tr>\n",
       "      <th>3</th>\n",
       "      <td>City Hotel</td>\n",
       "      <td>0</td>\n",
       "      <td>18</td>\n",
       "      <td>2015</td>\n",
       "      <td>2</td>\n",
       "      <td>50</td>\n",
       "      <td>6</td>\n",
       "      <td>2</td>\n",
       "      <td>0</td>\n",
       "      <td>2</td>\n",
       "      <td>...</td>\n",
       "      <td>0</td>\n",
       "      <td>A</td>\n",
       "      <td>A</td>\n",
       "      <td>0</td>\n",
       "      <td>No Deposit</td>\n",
       "      <td>0</td>\n",
       "      <td>2</td>\n",
       "      <td>107.0</td>\n",
       "      <td>0</td>\n",
       "      <td>0</td>\n",
       "    </tr>\n",
       "    <tr>\n",
       "      <th>4</th>\n",
       "      <td>City Hotel</td>\n",
       "      <td>1</td>\n",
       "      <td>263</td>\n",
       "      <td>2016</td>\n",
       "      <td>11</td>\n",
       "      <td>40</td>\n",
       "      <td>29</td>\n",
       "      <td>2</td>\n",
       "      <td>4</td>\n",
       "      <td>2</td>\n",
       "      <td>...</td>\n",
       "      <td>0</td>\n",
       "      <td>A</td>\n",
       "      <td>A</td>\n",
       "      <td>0</td>\n",
       "      <td>No Deposit</td>\n",
       "      <td>0</td>\n",
       "      <td>2</td>\n",
       "      <td>100.3</td>\n",
       "      <td>0</td>\n",
       "      <td>0</td>\n",
       "    </tr>\n",
       "  </tbody>\n",
       "</table>\n",
       "<p>5 rows × 28 columns</p>\n",
       "</div>"
      ],
      "text/plain": [
       "          hotel  is_canceled  lead_time  arrival_date_year  \\\n",
       "0  Resort Hotel            0          3               2016   \n",
       "1    City Hotel            1         50               2016   \n",
       "2    City Hotel            0         14               2015   \n",
       "3    City Hotel            0         18               2015   \n",
       "4    City Hotel            1        263               2016   \n",
       "\n",
       "   arrival_date_month  arrival_date_week_number  arrival_date_day_of_month  \\\n",
       "0                   3                         7                         12   \n",
       "1                   9                        47                         18   \n",
       "2                  11                        37                          7   \n",
       "3                   2                        50                          6   \n",
       "4                  11                        40                         29   \n",
       "\n",
       "   stays_in_weekend_nights  stays_in_week_nights  adults  ...  \\\n",
       "0                        0                     2       2  ...   \n",
       "1                        1                     2       2  ...   \n",
       "2                        1                     5       2  ...   \n",
       "3                        2                     0       2  ...   \n",
       "4                        2                     4       2  ...   \n",
       "\n",
       "   previous_bookings_not_canceled  reserved_room_type  assigned_room_type  \\\n",
       "0                               0                   E                   F   \n",
       "1                               0                   A                   A   \n",
       "2                               0                   F                   F   \n",
       "3                               0                   A                   A   \n",
       "4                               0                   A                   A   \n",
       "\n",
       "  booking_changes deposit_type  days_in_waiting_list  customer_type    adr  \\\n",
       "0               0   No Deposit                     0              2   81.0   \n",
       "1               0   No Deposit                     0              2   93.6   \n",
       "2               0   No Deposit                     0              0  166.0   \n",
       "3               0   No Deposit                     0              2  107.0   \n",
       "4               0   No Deposit                     0              2  100.3   \n",
       "\n",
       "   required_car_parking_spaces total_of_special_requests  \n",
       "0                            1                         0  \n",
       "1                            0                         2  \n",
       "2                            0                         3  \n",
       "3                            0                         0  \n",
       "4                            0                         0  \n",
       "\n",
       "[5 rows x 28 columns]"
      ]
     },
     "execution_count": 9,
     "metadata": {},
     "output_type": "execute_result"
    }
   ],
   "source": [
    "from sklearn import preprocessing\n",
    "\n",
    "categ = ['arrival_date_month', 'customer_type', 'meal', 'distribution_channel']\n",
    "\n",
    "# Encode Categorical Columns\n",
    "\n",
    "for col in categ:\n",
    "\n",
    "    # создание и обучение\n",
    "    le = preprocessing.LabelEncoder()\n",
    "    train[col] = le.fit_transform(train[col])\n",
    "\n",
    "    # преобразование теста\n",
    "    test[col] = le.transform(test[col])\n",
    "\n",
    "train.head()"
   ]
  },
  {
   "cell_type": "code",
   "execution_count": 10,
   "metadata": {
    "colab": {
     "base_uri": "https://localhost:8080/"
    },
    "id": "VsPqyS0eeExL",
    "outputId": "e0c8d0e1-27d9-4322-c6cf-c47da17c6e3f"
   },
   "outputs": [
    {
     "data": {
      "text/plain": [
       "Index(['hotel', 'country', 'market_segment', 'reserved_room_type',\n",
       "       'assigned_room_type', 'deposit_type'],\n",
       "      dtype='object')"
      ]
     },
     "execution_count": 10,
     "metadata": {},
     "output_type": "execute_result"
    }
   ],
   "source": [
    "cat_features = train.loc[:, train.dtypes == object].columns\n",
    "cat_features"
   ]
  },
  {
   "cell_type": "code",
   "execution_count": 11,
   "metadata": {
    "id": "kkqVAKN6zrMQ"
   },
   "outputs": [],
   "source": [
    "train = train.drop(columns=['country', 'assigned_room_type'])\n",
    "test = test.drop(columns=['country', 'assigned_room_type'])"
   ]
  },
  {
   "cell_type": "code",
   "execution_count": 12,
   "metadata": {
    "colab": {
     "base_uri": "https://localhost:8080/"
    },
    "id": "1_frH6_exwqb",
    "outputId": "daf04a60-bd6e-43ef-c567-392c40a07b22"
   },
   "outputs": [
    {
     "name": "stdout",
     "output_type": "stream",
     "text": [
      "A    31897\n",
      "D     7356\n",
      "E     2488\n",
      "F     1082\n",
      "G      784\n",
      "B      433\n",
      "C      355\n",
      "H      241\n",
      "P        2\n",
      "Name: reserved_room_type, dtype: int64\n",
      "A    17435\n",
      "D     3497\n",
      "E     1121\n",
      "F      539\n",
      "G      423\n",
      "B      206\n",
      "C      174\n",
      "H      129\n",
      "L        1\n",
      "Name: reserved_room_type, dtype: int64\n"
     ]
    }
   ],
   "source": [
    "print(train['reserved_room_type'].value_counts())\n",
    "print(test['reserved_room_type'].value_counts())"
   ]
  },
  {
   "cell_type": "code",
   "execution_count": 13,
   "metadata": {
    "id": "PG4Z9Lo85umf"
   },
   "outputs": [],
   "source": [
    "train = train.drop(columns=['reserved_room_type'])\n",
    "test = test.drop(columns=['reserved_room_type'])"
   ]
  },
  {
   "cell_type": "code",
   "execution_count": 14,
   "metadata": {
    "colab": {
     "base_uri": "https://localhost:8080/",
     "height": 317
    },
    "id": "3tTW6iOZeNiB",
    "outputId": "99fe016f-4a82-4451-a400-a5f3d3c578c5"
   },
   "outputs": [
    {
     "data": {
      "text/html": [
       "<div>\n",
       "<style scoped>\n",
       "    .dataframe tbody tr th:only-of-type {\n",
       "        vertical-align: middle;\n",
       "    }\n",
       "\n",
       "    .dataframe tbody tr th {\n",
       "        vertical-align: top;\n",
       "    }\n",
       "\n",
       "    .dataframe thead th {\n",
       "        text-align: right;\n",
       "    }\n",
       "</style>\n",
       "<table border=\"1\" class=\"dataframe\">\n",
       "  <thead>\n",
       "    <tr style=\"text-align: right;\">\n",
       "      <th></th>\n",
       "      <th>is_canceled</th>\n",
       "      <th>lead_time</th>\n",
       "      <th>arrival_date_year</th>\n",
       "      <th>arrival_date_month</th>\n",
       "      <th>arrival_date_week_number</th>\n",
       "      <th>arrival_date_day_of_month</th>\n",
       "      <th>stays_in_weekend_nights</th>\n",
       "      <th>stays_in_week_nights</th>\n",
       "      <th>adults</th>\n",
       "      <th>children</th>\n",
       "      <th>...</th>\n",
       "      <th>market_segment_Aviation</th>\n",
       "      <th>market_segment_Complementary</th>\n",
       "      <th>market_segment_Corporate</th>\n",
       "      <th>market_segment_Direct</th>\n",
       "      <th>market_segment_Groups</th>\n",
       "      <th>market_segment_Offline TA/TO</th>\n",
       "      <th>market_segment_Online TA</th>\n",
       "      <th>deposit_type_No Deposit</th>\n",
       "      <th>deposit_type_Non Refund</th>\n",
       "      <th>deposit_type_Refundable</th>\n",
       "    </tr>\n",
       "  </thead>\n",
       "  <tbody>\n",
       "    <tr>\n",
       "      <th>0</th>\n",
       "      <td>0</td>\n",
       "      <td>3</td>\n",
       "      <td>2016</td>\n",
       "      <td>3</td>\n",
       "      <td>7</td>\n",
       "      <td>12</td>\n",
       "      <td>0</td>\n",
       "      <td>2</td>\n",
       "      <td>2</td>\n",
       "      <td>0.0</td>\n",
       "      <td>...</td>\n",
       "      <td>0</td>\n",
       "      <td>0</td>\n",
       "      <td>0</td>\n",
       "      <td>1</td>\n",
       "      <td>0</td>\n",
       "      <td>0</td>\n",
       "      <td>0</td>\n",
       "      <td>1</td>\n",
       "      <td>0</td>\n",
       "      <td>0</td>\n",
       "    </tr>\n",
       "    <tr>\n",
       "      <th>1</th>\n",
       "      <td>1</td>\n",
       "      <td>50</td>\n",
       "      <td>2016</td>\n",
       "      <td>9</td>\n",
       "      <td>47</td>\n",
       "      <td>18</td>\n",
       "      <td>1</td>\n",
       "      <td>2</td>\n",
       "      <td>2</td>\n",
       "      <td>0.0</td>\n",
       "      <td>...</td>\n",
       "      <td>0</td>\n",
       "      <td>0</td>\n",
       "      <td>0</td>\n",
       "      <td>0</td>\n",
       "      <td>0</td>\n",
       "      <td>0</td>\n",
       "      <td>1</td>\n",
       "      <td>1</td>\n",
       "      <td>0</td>\n",
       "      <td>0</td>\n",
       "    </tr>\n",
       "    <tr>\n",
       "      <th>2</th>\n",
       "      <td>0</td>\n",
       "      <td>14</td>\n",
       "      <td>2015</td>\n",
       "      <td>11</td>\n",
       "      <td>37</td>\n",
       "      <td>7</td>\n",
       "      <td>1</td>\n",
       "      <td>5</td>\n",
       "      <td>2</td>\n",
       "      <td>2.0</td>\n",
       "      <td>...</td>\n",
       "      <td>0</td>\n",
       "      <td>0</td>\n",
       "      <td>0</td>\n",
       "      <td>0</td>\n",
       "      <td>0</td>\n",
       "      <td>0</td>\n",
       "      <td>1</td>\n",
       "      <td>1</td>\n",
       "      <td>0</td>\n",
       "      <td>0</td>\n",
       "    </tr>\n",
       "    <tr>\n",
       "      <th>3</th>\n",
       "      <td>0</td>\n",
       "      <td>18</td>\n",
       "      <td>2015</td>\n",
       "      <td>2</td>\n",
       "      <td>50</td>\n",
       "      <td>6</td>\n",
       "      <td>2</td>\n",
       "      <td>0</td>\n",
       "      <td>2</td>\n",
       "      <td>0.0</td>\n",
       "      <td>...</td>\n",
       "      <td>0</td>\n",
       "      <td>0</td>\n",
       "      <td>0</td>\n",
       "      <td>0</td>\n",
       "      <td>0</td>\n",
       "      <td>0</td>\n",
       "      <td>1</td>\n",
       "      <td>1</td>\n",
       "      <td>0</td>\n",
       "      <td>0</td>\n",
       "    </tr>\n",
       "    <tr>\n",
       "      <th>4</th>\n",
       "      <td>1</td>\n",
       "      <td>263</td>\n",
       "      <td>2016</td>\n",
       "      <td>11</td>\n",
       "      <td>40</td>\n",
       "      <td>29</td>\n",
       "      <td>2</td>\n",
       "      <td>4</td>\n",
       "      <td>2</td>\n",
       "      <td>0.0</td>\n",
       "      <td>...</td>\n",
       "      <td>0</td>\n",
       "      <td>0</td>\n",
       "      <td>0</td>\n",
       "      <td>0</td>\n",
       "      <td>0</td>\n",
       "      <td>0</td>\n",
       "      <td>1</td>\n",
       "      <td>1</td>\n",
       "      <td>0</td>\n",
       "      <td>0</td>\n",
       "    </tr>\n",
       "  </tbody>\n",
       "</table>\n",
       "<p>5 rows × 34 columns</p>\n",
       "</div>"
      ],
      "text/plain": [
       "   is_canceled  lead_time  arrival_date_year  arrival_date_month  \\\n",
       "0            0          3               2016                   3   \n",
       "1            1         50               2016                   9   \n",
       "2            0         14               2015                  11   \n",
       "3            0         18               2015                   2   \n",
       "4            1        263               2016                  11   \n",
       "\n",
       "   arrival_date_week_number  arrival_date_day_of_month  \\\n",
       "0                         7                         12   \n",
       "1                        47                         18   \n",
       "2                        37                          7   \n",
       "3                        50                          6   \n",
       "4                        40                         29   \n",
       "\n",
       "   stays_in_weekend_nights  stays_in_week_nights  adults  children  ...  \\\n",
       "0                        0                     2       2       0.0  ...   \n",
       "1                        1                     2       2       0.0  ...   \n",
       "2                        1                     5       2       2.0  ...   \n",
       "3                        2                     0       2       0.0  ...   \n",
       "4                        2                     4       2       0.0  ...   \n",
       "\n",
       "   market_segment_Aviation  market_segment_Complementary  \\\n",
       "0                        0                             0   \n",
       "1                        0                             0   \n",
       "2                        0                             0   \n",
       "3                        0                             0   \n",
       "4                        0                             0   \n",
       "\n",
       "   market_segment_Corporate  market_segment_Direct  market_segment_Groups  \\\n",
       "0                         0                      1                      0   \n",
       "1                         0                      0                      0   \n",
       "2                         0                      0                      0   \n",
       "3                         0                      0                      0   \n",
       "4                         0                      0                      0   \n",
       "\n",
       "   market_segment_Offline TA/TO  market_segment_Online TA  \\\n",
       "0                             0                         0   \n",
       "1                             0                         1   \n",
       "2                             0                         1   \n",
       "3                             0                         1   \n",
       "4                             0                         1   \n",
       "\n",
       "   deposit_type_No Deposit  deposit_type_Non Refund  deposit_type_Refundable  \n",
       "0                        1                        0                        0  \n",
       "1                        1                        0                        0  \n",
       "2                        1                        0                        0  \n",
       "3                        1                        0                        0  \n",
       "4                        1                        0                        0  \n",
       "\n",
       "[5 rows x 34 columns]"
      ]
     },
     "execution_count": 14,
     "metadata": {},
     "output_type": "execute_result"
    }
   ],
   "source": [
    "# V2\n",
    "train = pd.get_dummies(train, columns=['hotel', 'market_segment', 'deposit_type'])\n",
    "\n",
    "train.head()"
   ]
  },
  {
   "cell_type": "code",
   "execution_count": 15,
   "metadata": {
    "colab": {
     "base_uri": "https://localhost:8080/"
    },
    "id": "CY1xqxPveRAt",
    "outputId": "eb1adfa4-214f-40d5-ee7d-6d67f8dd1e33"
   },
   "outputs": [
    {
     "data": {
      "text/plain": [
       "is_canceled                         int64\n",
       "lead_time                           int64\n",
       "arrival_date_year                   int64\n",
       "arrival_date_month                  int32\n",
       "arrival_date_week_number            int64\n",
       "arrival_date_day_of_month           int64\n",
       "stays_in_weekend_nights             int64\n",
       "stays_in_week_nights                int64\n",
       "adults                              int64\n",
       "children                          float64\n",
       "babies                              int64\n",
       "meal                                int32\n",
       "distribution_channel                int32\n",
       "is_repeated_guest                   int64\n",
       "previous_cancellations              int64\n",
       "previous_bookings_not_canceled      int64\n",
       "booking_changes                     int64\n",
       "days_in_waiting_list                int64\n",
       "customer_type                       int32\n",
       "adr                               float64\n",
       "required_car_parking_spaces         int64\n",
       "total_of_special_requests           int64\n",
       "hotel_City Hotel                    uint8\n",
       "hotel_Resort Hotel                  uint8\n",
       "market_segment_Aviation             uint8\n",
       "market_segment_Complementary        uint8\n",
       "market_segment_Corporate            uint8\n",
       "market_segment_Direct               uint8\n",
       "market_segment_Groups               uint8\n",
       "market_segment_Offline TA/TO        uint8\n",
       "market_segment_Online TA            uint8\n",
       "deposit_type_No Deposit             uint8\n",
       "deposit_type_Non Refund             uint8\n",
       "deposit_type_Refundable             uint8\n",
       "dtype: object"
      ]
     },
     "execution_count": 15,
     "metadata": {},
     "output_type": "execute_result"
    }
   ],
   "source": [
    "train.dtypes"
   ]
  },
  {
   "cell_type": "code",
   "execution_count": 16,
   "metadata": {
    "id": "qpuS7mtKeUzq"
   },
   "outputs": [],
   "source": [
    "# V3\n",
    "test = pd.get_dummies(test, columns=['hotel', 'market_segment', 'deposit_type'])"
   ]
  },
  {
   "cell_type": "code",
   "execution_count": 17,
   "metadata": {
    "colab": {
     "base_uri": "https://localhost:8080/"
    },
    "id": "fxl0opa8eWSa",
    "outputId": "42e9eb6b-3080-42cb-917f-3be8573efa37"
   },
   "outputs": [
    {
     "data": {
      "text/plain": [
       "lead_time                           int64\n",
       "arrival_date_year                   int64\n",
       "arrival_date_month                  int32\n",
       "arrival_date_week_number            int64\n",
       "arrival_date_day_of_month           int64\n",
       "stays_in_weekend_nights             int64\n",
       "stays_in_week_nights                int64\n",
       "adults                              int64\n",
       "children                          float64\n",
       "babies                              int64\n",
       "meal                                int32\n",
       "distribution_channel                int32\n",
       "is_repeated_guest                   int64\n",
       "previous_cancellations              int64\n",
       "previous_bookings_not_canceled      int64\n",
       "booking_changes                     int64\n",
       "days_in_waiting_list                int64\n",
       "customer_type                       int32\n",
       "adr                               float64\n",
       "required_car_parking_spaces         int64\n",
       "total_of_special_requests           int64\n",
       "hotel_City Hotel                    uint8\n",
       "hotel_Resort Hotel                  uint8\n",
       "market_segment_Aviation             uint8\n",
       "market_segment_Complementary        uint8\n",
       "market_segment_Corporate            uint8\n",
       "market_segment_Direct               uint8\n",
       "market_segment_Groups               uint8\n",
       "market_segment_Offline TA/TO        uint8\n",
       "market_segment_Online TA            uint8\n",
       "deposit_type_No Deposit             uint8\n",
       "deposit_type_Non Refund             uint8\n",
       "deposit_type_Refundable             uint8\n",
       "dtype: object"
      ]
     },
     "execution_count": 17,
     "metadata": {},
     "output_type": "execute_result"
    }
   ],
   "source": [
    "test.dtypes"
   ]
  },
  {
   "cell_type": "code",
   "execution_count": 18,
   "metadata": {
    "id": "Pu_A4xgDedYC"
   },
   "outputs": [],
   "source": [
    "X = train.drop(columns=['is_canceled'])\n",
    "y = train['is_canceled']"
   ]
  },
  {
   "cell_type": "code",
   "execution_count": 19,
   "metadata": {
    "colab": {
     "base_uri": "https://localhost:8080/"
    },
    "id": "83itCPAr0PlE",
    "outputId": "f3be7f25-d7a8-48ec-a066-de312467d3e3"
   },
   "outputs": [
    {
     "data": {
      "text/plain": [
       "0    31354\n",
       "1    13284\n",
       "Name: is_canceled, dtype: int64"
      ]
     },
     "execution_count": 19,
     "metadata": {},
     "output_type": "execute_result"
    }
   ],
   "source": [
    "y.value_counts()"
   ]
  },
  {
   "cell_type": "code",
   "execution_count": 20,
   "metadata": {
    "colab": {
     "base_uri": "https://localhost:8080/"
    },
    "id": "TRigyB42eYmT",
    "outputId": "61bdcb5b-ba35-4361-b24a-9d8f3a8160dd"
   },
   "outputs": [
    {
     "name": "stdout",
     "output_type": "stream",
     "text": [
      "До балансировки данных\n",
      "(44638, 33)\n",
      "0    31354\n",
      "1    13284\n",
      "Name: is_canceled, dtype: int64\n",
      "После балансировки\n",
      "(62708, 33)\n",
      "is_canceled\n",
      "1              31354\n",
      "0              31354\n",
      "dtype: int64\n"
     ]
    }
   ],
   "source": [
    "from imblearn.over_sampling import SMOTE\n",
    "\n",
    "os = SMOTE(random_state=0, k_neighbors=10)\n",
    "\n",
    "column = X.columns\n",
    "\n",
    "print(\"До балансировки данных\")\n",
    "print(X.shape)\n",
    "print(y.value_counts())\n",
    "\n",
    "os_data_X, os_data_y = os.fit_resample(X, y)\n",
    "os_data_X = pd.DataFrame(data=os_data_X, columns=column)\n",
    "os_data_y = pd.DataFrame(data=os_data_y, columns=['is_canceled'])\n",
    "\n",
    "print(\"После балансировки\")\n",
    "print(os_data_X.shape)\n",
    "print(os_data_y.value_counts())"
   ]
  },
  {
   "cell_type": "code",
   "execution_count": 21,
   "metadata": {
    "colab": {
     "base_uri": "https://localhost:8080/"
    },
    "id": "cub_f_i7ejB3",
    "outputId": "d155f8c9-956f-4993-e0c3-33d21bf1ba50"
   },
   "outputs": [
    {
     "name": "stdout",
     "output_type": "stream",
     "text": [
      "(43895, 33)\n",
      "(18813, 33)\n"
     ]
    }
   ],
   "source": [
    "from sklearn.model_selection import train_test_split\n",
    "\n",
    "X_train, X_test, y_train, y_test = train_test_split(os_data_X, os_data_y, test_size=0.3)\n",
    "\n",
    "print(X_train.shape)\n",
    "print(X_test.shape)"
   ]
  },
  {
   "cell_type": "code",
   "execution_count": 22,
   "metadata": {
    "colab": {
     "base_uri": "https://localhost:8080/"
    },
    "id": "XtEjb0iyehE6",
    "outputId": "23be756c-a880-45c6-8515-2babc5a45385"
   },
   "outputs": [
    {
     "name": "stderr",
     "output_type": "stream",
     "text": [
      "C:\\Users\\Ivan\\anaconda3\\lib\\site-packages\\sklearn\\utils\\validation.py:1143: DataConversionWarning: A column-vector y was passed when a 1d array was expected. Please change the shape of y to (n_samples, ), for example using ravel().\n",
      "  y = column_or_1d(y, warn=True)\n",
      "C:\\Users\\Ivan\\anaconda3\\lib\\site-packages\\sklearn\\linear_model\\_logistic.py:458: ConvergenceWarning: lbfgs failed to converge (status=1):\n",
      "STOP: TOTAL NO. of ITERATIONS REACHED LIMIT.\n",
      "\n",
      "Increase the number of iterations (max_iter) or scale the data as shown in:\n",
      "    https://scikit-learn.org/stable/modules/preprocessing.html\n",
      "Please also refer to the documentation for alternative solver options:\n",
      "    https://scikit-learn.org/stable/modules/linear_model.html#logistic-regression\n",
      "  n_iter_i = _check_optimize_result(\n"
     ]
    }
   ],
   "source": [
    "model = LogisticRegression()\n",
    "\n",
    "model.fit(X_train, y_train)\n",
    "\n",
    "answers_pred = model.predict(X_test)"
   ]
  },
  {
   "cell_type": "code",
   "execution_count": 23,
   "metadata": {
    "colab": {
     "base_uri": "https://localhost:8080/"
    },
    "id": "osY7qiKIe3Io",
    "outputId": "70bc772d-2498-44ca-e50a-964c17b66399"
   },
   "outputs": [
    {
     "name": "stdout",
     "output_type": "stream",
     "text": [
      "Accuracy: 0.7252431829054378\n",
      "Precision: 0.7380819470804957\n",
      "Recall: 0.7007631969472122\n"
     ]
    }
   ],
   "source": [
    "from sklearn.metrics import accuracy_score, precision_score, recall_score\n",
    "\n",
    "print(f'Accuracy: {accuracy_score(y_test, answers_pred)}')\n",
    "print(f'Precision: {precision_score(y_test, answers_pred)}')\n",
    "print(f'Recall: {recall_score(y_test, answers_pred)}')"
   ]
  },
  {
   "cell_type": "code",
   "execution_count": 24,
   "metadata": {
    "id": "o3zmdodufGxc"
   },
   "outputs": [],
   "source": [
    "y_pred_test = model.predict(test)"
   ]
  },
  {
   "cell_type": "code",
   "execution_count": 26,
   "metadata": {
    "colab": {
     "base_uri": "https://localhost:8080/",
     "height": 17
    },
    "id": "Uz3yNWCAfG8F",
    "outputId": "b765ff13-c056-4f8c-a923-b7c4c67ab3b4"
   },
   "outputs": [],
   "source": [
    "y_pred_test = pd.DataFrame(y_pred_test, columns=['is_canceled'])\n",
    "y_pred_test = y_pred_test.reset_index()\n",
    "\n",
    "y_pred_test.to_csv(\"solution.csv\", index=False)"
   ]
  },
  {
   "cell_type": "code",
   "execution_count": null,
   "metadata": {},
   "outputs": [],
   "source": []
  }
 ],
 "metadata": {
  "colab": {
   "provenance": []
  },
  "kernelspec": {
   "display_name": "Python 3",
   "language": "python",
   "name": "python3"
  },
  "language_info": {
   "codemirror_mode": {
    "name": "ipython",
    "version": 3
   },
   "file_extension": ".py",
   "mimetype": "text/x-python",
   "name": "python",
   "nbconvert_exporter": "python",
   "pygments_lexer": "ipython3",
   "version": "3.8.5"
  }
 },
 "nbformat": 4,
 "nbformat_minor": 1
}
